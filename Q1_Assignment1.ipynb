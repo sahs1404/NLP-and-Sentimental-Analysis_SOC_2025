{
 "cells": [
  {
   "cell_type": "code",
   "execution_count": 14,
   "id": "d562e28a-2a65-4cfc-a09c-37bc3517e958",
   "metadata": {},
   "outputs": [
    {
     "name": "stdout",
     "output_type": "stream",
     "text": [
      "Collecting en-core-web-sm==3.8.0\n",
      "  Using cached https://github.com/explosion/spacy-models/releases/download/en_core_web_sm-3.8.0/en_core_web_sm-3.8.0-py3-none-any.whl (12.8 MB)\n",
      "\u001b[38;5;2m[+] Download and installation successful\u001b[0m\n",
      "You can now load the package via spacy.load('en_core_web_sm')\n"
     ]
    }
   ],
   "source": [
    "!python -m spacy download en_core_web_sm\n",
    "\n"
   ]
  },
  {
   "cell_type": "code",
   "execution_count": 17,
   "id": "e83f74c6-af08-4983-a72d-7ce467a41997",
   "metadata": {},
   "outputs": [],
   "source": [
    "import spacy\n",
    "import pandas as pd\n",
    "\n",
    "# Load English tokenizer, POS tagger, parser, NER and word vectors\n",
    "nlp = spacy.load(\"en_core_web_sm\")\n"
   ]
  },
  {
   "cell_type": "code",
   "execution_count": 30,
   "id": "7c307972-a02b-4b7f-8c4f-cbc676398815",
   "metadata": {},
   "outputs": [
    {
     "name": "stdout",
     "output_type": "stream",
     "text": [
      "Original Text:\n",
      " Christopher Nolan's new movie was a thrilling experience! It premiered in Los Angeles on July 5, 2024. The plot had several twists, and the acting by Cillian Murphy and Emily Blunt was top-notch. Produced by Universal Pictures, the film explores themes of time and identity. I loved the cinematography by Hoyte van Hoytema, though the ending felt a bit rushed. Overall, it's a good watch for fans of mystery thrillers.\n"
     ]
    }
   ],
   "source": [
    "text = (\n",
    "    \"Christopher Nolan's new movie was a thrilling experience! It premiered in Los Angeles on July 5, 2024. \"\n",
    "    \"The plot had several twists, and the acting by Cillian Murphy and Emily Blunt was top-notch. \"\n",
    "    \"Produced by Universal Pictures, the film explores themes of time and identity. \"\n",
    "    \"I loved the cinematography by Hoyte van Hoytema, though the ending felt a bit rushed. \"\n",
    "    \"Overall, it's a good watch for fans of mystery thrillers.\"\n",
    ")\n",
    "\n",
    "print(\"Original Text:\\n\", text)\n",
    "doc = nlp(text)\n"
   ]
  },
  {
   "cell_type": "markdown",
   "id": "db1a3472-ae6a-428c-a2c8-bc748d47d39b",
   "metadata": {},
   "source": [
    "### a) Tokenization"
   ]
  },
  {
   "cell_type": "code",
   "execution_count": 31,
   "id": "000b0a64-1c1c-4cf0-81ec-182b11947e7a",
   "metadata": {},
   "outputs": [
    {
     "name": "stdout",
     "output_type": "stream",
     "text": [
      "Tokenized Output:\n",
      " ['Christopher', 'Nolan', \"'s\", 'new', 'movie', 'was', 'a', 'thrilling', 'experience', '!', 'It', 'premiered', 'in', 'Los', 'Angeles', 'on', 'July', '5', ',', '2024', '.', 'The', 'plot', 'had', 'several', 'twists', ',', 'and', 'the', 'acting', 'by', 'Cillian', 'Murphy', 'and', 'Emily', 'Blunt', 'was', 'top', '-', 'notch', '.', 'Produced', 'by', 'Universal', 'Pictures', ',', 'the', 'film', 'explores', 'themes', 'of', 'time', 'and', 'identity', '.', 'I', 'loved', 'the', 'cinematography', 'by', 'Hoyte', 'van', 'Hoytema', ',', 'though', 'the', 'ending', 'felt', 'a', 'bit', 'rushed', '.', 'Overall', ',', 'it', \"'s\", 'a', 'good', 'watch', 'for', 'fans', 'of', 'mystery', 'thrillers', '.']\n"
     ]
    }
   ],
   "source": [
    "tokens = [token.text for token in doc]\n",
    "print(\"Tokenized Output:\\n\", tokens)"
   ]
  },
  {
   "cell_type": "markdown",
   "id": "c08fa5ac-70e6-429a-a556-60cdfd11b167",
   "metadata": {},
   "source": [
    "### b) Stop-Word Removal"
   ]
  },
  {
   "cell_type": "code",
   "execution_count": 32,
   "id": "387edc09-9e6b-4a23-aeb0-14101bfb98c8",
   "metadata": {},
   "outputs": [
    {
     "name": "stdout",
     "output_type": "stream",
     "text": [
      "Without Stopwords:\n",
      " ['Christopher', 'Nolan', 'new', 'movie', 'thrilling', 'experience', 'premiered', 'Los', 'Angeles', 'July', 'plot', 'twists', 'acting', 'Cillian', 'Murphy', 'Emily', 'Blunt', 'notch', 'Produced', 'Universal', 'Pictures', 'film', 'explores', 'themes', 'time', 'identity', 'loved', 'cinematography', 'Hoyte', 'van', 'Hoytema', 'ending', 'felt', 'bit', 'rushed', 'Overall', 'good', 'watch', 'fans', 'mystery', 'thrillers']\n"
     ]
    }
   ],
   "source": [
    "tokens_no_stopwords = [token.text for token in doc if not token.is_stop and token.is_alpha]\n",
    "print(\"Without Stopwords:\\n\", tokens_no_stopwords)\n"
   ]
  },
  {
   "cell_type": "markdown",
   "id": "937a392a-15e8-4965-ba39-8f6552c69426",
   "metadata": {},
   "source": [
    "### c) Lemmatization and d)POS\n"
   ]
  },
  {
   "cell_type": "code",
   "execution_count": 33,
   "id": "445aba05-6ff0-4edf-bfa5-d5e01d855290",
   "metadata": {},
   "outputs": [
    {
     "data": {
      "text/html": [
       "<div>\n",
       "<style scoped>\n",
       "    .dataframe tbody tr th:only-of-type {\n",
       "        vertical-align: middle;\n",
       "    }\n",
       "\n",
       "    .dataframe tbody tr th {\n",
       "        vertical-align: top;\n",
       "    }\n",
       "\n",
       "    .dataframe thead th {\n",
       "        text-align: right;\n",
       "    }\n",
       "</style>\n",
       "<table border=\"1\" class=\"dataframe\">\n",
       "  <thead>\n",
       "    <tr style=\"text-align: right;\">\n",
       "      <th></th>\n",
       "      <th>Original</th>\n",
       "      <th>Lemmatized</th>\n",
       "      <th>POS</th>\n",
       "    </tr>\n",
       "  </thead>\n",
       "  <tbody>\n",
       "    <tr>\n",
       "      <th>0</th>\n",
       "      <td>Christopher</td>\n",
       "      <td>Christopher</td>\n",
       "      <td>PROPN</td>\n",
       "    </tr>\n",
       "    <tr>\n",
       "      <th>1</th>\n",
       "      <td>Nolan</td>\n",
       "      <td>Nolan</td>\n",
       "      <td>PROPN</td>\n",
       "    </tr>\n",
       "    <tr>\n",
       "      <th>2</th>\n",
       "      <td>new</td>\n",
       "      <td>new</td>\n",
       "      <td>ADJ</td>\n",
       "    </tr>\n",
       "    <tr>\n",
       "      <th>3</th>\n",
       "      <td>movie</td>\n",
       "      <td>movie</td>\n",
       "      <td>NOUN</td>\n",
       "    </tr>\n",
       "    <tr>\n",
       "      <th>4</th>\n",
       "      <td>was</td>\n",
       "      <td>be</td>\n",
       "      <td>AUX</td>\n",
       "    </tr>\n",
       "    <tr>\n",
       "      <th>5</th>\n",
       "      <td>a</td>\n",
       "      <td>a</td>\n",
       "      <td>DET</td>\n",
       "    </tr>\n",
       "    <tr>\n",
       "      <th>6</th>\n",
       "      <td>thrilling</td>\n",
       "      <td>thrilling</td>\n",
       "      <td>NOUN</td>\n",
       "    </tr>\n",
       "    <tr>\n",
       "      <th>7</th>\n",
       "      <td>experience</td>\n",
       "      <td>experience</td>\n",
       "      <td>NOUN</td>\n",
       "    </tr>\n",
       "    <tr>\n",
       "      <th>8</th>\n",
       "      <td>It</td>\n",
       "      <td>it</td>\n",
       "      <td>PRON</td>\n",
       "    </tr>\n",
       "    <tr>\n",
       "      <th>9</th>\n",
       "      <td>premiered</td>\n",
       "      <td>premiere</td>\n",
       "      <td>VERB</td>\n",
       "    </tr>\n",
       "    <tr>\n",
       "      <th>10</th>\n",
       "      <td>in</td>\n",
       "      <td>in</td>\n",
       "      <td>ADP</td>\n",
       "    </tr>\n",
       "    <tr>\n",
       "      <th>11</th>\n",
       "      <td>Los</td>\n",
       "      <td>Los</td>\n",
       "      <td>PROPN</td>\n",
       "    </tr>\n",
       "    <tr>\n",
       "      <th>12</th>\n",
       "      <td>Angeles</td>\n",
       "      <td>Angeles</td>\n",
       "      <td>PROPN</td>\n",
       "    </tr>\n",
       "    <tr>\n",
       "      <th>13</th>\n",
       "      <td>on</td>\n",
       "      <td>on</td>\n",
       "      <td>ADP</td>\n",
       "    </tr>\n",
       "    <tr>\n",
       "      <th>14</th>\n",
       "      <td>July</td>\n",
       "      <td>July</td>\n",
       "      <td>PROPN</td>\n",
       "    </tr>\n",
       "  </tbody>\n",
       "</table>\n",
       "</div>"
      ],
      "text/plain": [
       "       Original   Lemmatized    POS\n",
       "0   Christopher  Christopher  PROPN\n",
       "1         Nolan        Nolan  PROPN\n",
       "2           new          new    ADJ\n",
       "3         movie        movie   NOUN\n",
       "4           was           be    AUX\n",
       "5             a            a    DET\n",
       "6     thrilling    thrilling   NOUN\n",
       "7    experience   experience   NOUN\n",
       "8            It           it   PRON\n",
       "9     premiered     premiere   VERB\n",
       "10           in           in    ADP\n",
       "11          Los          Los  PROPN\n",
       "12      Angeles      Angeles  PROPN\n",
       "13           on           on    ADP\n",
       "14         July         July  PROPN"
      ]
     },
     "execution_count": 33,
     "metadata": {},
     "output_type": "execute_result"
    }
   ],
   "source": [
    "\n",
    "lemma_data = []\n",
    "\n",
    "for token in doc:\n",
    "    if token.is_alpha:\n",
    "        pos = token.pos_\n",
    "        lemma = token.lemma_\n",
    "\n",
    "        # If it's a verb or noun, use its lemma; else fallback\n",
    "        if pos in [\"VERB\", \"NOUN\"]:\n",
    "            lemma_data.append((token.text, lemma, pos))\n",
    "        else:\n",
    "            lemma_data.append((token.text, lemma, pos))\n",
    "\n",
    "df_lemmas = pd.DataFrame(lemma_data[:15], columns=[\"Original\", \"Lemmatized\", \"POS\"])\n",
    "df_lemmas\n",
    "\n"
   ]
  },
  {
   "cell_type": "markdown",
   "id": "0ba578c4-def4-48bb-b875-22ef28b24aaf",
   "metadata": {},
   "source": [
    "### e)Entities\n"
   ]
  },
  {
   "cell_type": "code",
   "execution_count": 34,
   "id": "97876cf6-3b11-4e52-b1f4-84335b0e552f",
   "metadata": {},
   "outputs": [
    {
     "data": {
      "text/html": [
       "<div>\n",
       "<style scoped>\n",
       "    .dataframe tbody tr th:only-of-type {\n",
       "        vertical-align: middle;\n",
       "    }\n",
       "\n",
       "    .dataframe tbody tr th {\n",
       "        vertical-align: top;\n",
       "    }\n",
       "\n",
       "    .dataframe thead th {\n",
       "        text-align: right;\n",
       "    }\n",
       "</style>\n",
       "<table border=\"1\" class=\"dataframe\">\n",
       "  <thead>\n",
       "    <tr style=\"text-align: right;\">\n",
       "      <th></th>\n",
       "      <th>Entity</th>\n",
       "      <th>Label</th>\n",
       "    </tr>\n",
       "  </thead>\n",
       "  <tbody>\n",
       "    <tr>\n",
       "      <th>0</th>\n",
       "      <td>Christopher Nolan's</td>\n",
       "      <td>PERSON</td>\n",
       "    </tr>\n",
       "    <tr>\n",
       "      <th>1</th>\n",
       "      <td>Los Angeles</td>\n",
       "      <td>GPE</td>\n",
       "    </tr>\n",
       "    <tr>\n",
       "      <th>2</th>\n",
       "      <td>July 5, 2024</td>\n",
       "      <td>DATE</td>\n",
       "    </tr>\n",
       "    <tr>\n",
       "      <th>3</th>\n",
       "      <td>Cillian Murphy</td>\n",
       "      <td>PERSON</td>\n",
       "    </tr>\n",
       "    <tr>\n",
       "      <th>4</th>\n",
       "      <td>Emily Blunt</td>\n",
       "      <td>PERSON</td>\n",
       "    </tr>\n",
       "    <tr>\n",
       "      <th>5</th>\n",
       "      <td>Universal Pictures</td>\n",
       "      <td>ORG</td>\n",
       "    </tr>\n",
       "    <tr>\n",
       "      <th>6</th>\n",
       "      <td>Hoyte van Hoytema</td>\n",
       "      <td>PERSON</td>\n",
       "    </tr>\n",
       "  </tbody>\n",
       "</table>\n",
       "</div>"
      ],
      "text/plain": [
       "                Entity   Label\n",
       "0  Christopher Nolan's  PERSON\n",
       "1          Los Angeles     GPE\n",
       "2         July 5, 2024    DATE\n",
       "3       Cillian Murphy  PERSON\n",
       "4          Emily Blunt  PERSON\n",
       "5   Universal Pictures     ORG\n",
       "6    Hoyte van Hoytema  PERSON"
      ]
     },
     "execution_count": 34,
     "metadata": {},
     "output_type": "execute_result"
    }
   ],
   "source": [
    "entities = [(ent.text, ent.label_) for ent in doc.ents]\n",
    "df_entities = pd.DataFrame(entities, columns=[\"Entity\", \"Label\"])\n",
    "df_entities\n"
   ]
  }
 ],
 "metadata": {
  "kernelspec": {
   "display_name": "Python 3 (ipykernel)",
   "language": "python",
   "name": "python3"
  },
  "language_info": {
   "codemirror_mode": {
    "name": "ipython",
    "version": 3
   },
   "file_extension": ".py",
   "mimetype": "text/x-python",
   "name": "python",
   "nbconvert_exporter": "python",
   "pygments_lexer": "ipython3",
   "version": "3.11.0"
  }
 },
 "nbformat": 4,
 "nbformat_minor": 5
}
